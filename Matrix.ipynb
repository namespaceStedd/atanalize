{
  "nbformat": 4,
  "nbformat_minor": 0,
  "metadata": {
    "colab": {
      "provenance": [],
      "collapsed_sections": [
        "cxd2x0vjf6Lq",
        "TFfYdTBvfiqp",
        "qJRPBCqhGuRX",
        "APpLAOfdLKYM",
        "nNttRGN5bpeh",
        "7Iei3Fs6ggn8",
        "S0x2ozvbl-t5"
      ],
      "authorship_tag": "ABX9TyMbxNHexmMv0OG8hVejHdtr",
      "include_colab_link": true
    },
    "kernelspec": {
      "name": "python3",
      "display_name": "Python 3"
    },
    "language_info": {
      "name": "python"
    }
  },
  "cells": [
    {
      "cell_type": "markdown",
      "metadata": {
        "id": "view-in-github",
        "colab_type": "text"
      },
      "source": [
        "<a href=\"https://colab.research.google.com/github/namespaceStedd/atanalize/blob/main/Matrix.ipynb\" target=\"_parent\"><img src=\"https://colab.research.google.com/assets/colab-badge.svg\" alt=\"Open In Colab\"/></a>"
      ]
    },
    {
      "cell_type": "markdown",
      "source": [
        "# Матрицы"
      ],
      "metadata": {
        "id": "Vh8wWw84fvnx"
      }
    },
    {
      "cell_type": "markdown",
      "source": [
        "Общие функции..."
      ],
      "metadata": {
        "id": "2JgnZSXc594D"
      }
    },
    {
      "cell_type": "code",
      "source": [
        "# Функция проверки на int и вывода размерности\n",
        "def check_len(object):\n",
        "  if (type(object) == int):\n",
        "    return 1;\n",
        "  else:\n",
        "    return len(object);\n",
        "\n",
        "# Функция проверки элементов матрицы на содержание размерности 1 (int), и перевода в [1] (list)\n",
        "def check_matrix(matrix):\n",
        "  # 0\n",
        "  if (type(matrix) == int):\n",
        "    matrix = [ [ matrix ] ];\n",
        "    #  [0, 1]  vs  [[0], [1]]\n",
        "  elif (type(matrix) == list and type(matrix[0]) != list):\n",
        "    matrix = [ matrix ];\n",
        "  # [0]\n",
        "  #for i in range (0, len(matrix)):\n",
        "  #  if (type(matrix[i]) == int):\n",
        "  #    matrix[i] = [ matrix[i] ];\n",
        "  return matrix;\n",
        "\n",
        "\n",
        "# Функция проверки корректности матрицы\n",
        "def check_correct_matrix(matrix):\n",
        "  matrix = check_matrix(matrix);\n",
        "  for i in range(1, len(matrix)):\n",
        "    if (len(matrix[i - 1]) != len(matrix[i])):\n",
        "      return False;\n",
        "  return True;\n",
        "\n"
      ],
      "metadata": {
        "id": "Iw3FKoej6A8a"
      },
      "execution_count": 1,
      "outputs": []
    },
    {
      "cell_type": "markdown",
      "source": [
        "## Задание 1"
      ],
      "metadata": {
        "id": "cxd2x0vjf6Lq"
      }
    },
    {
      "cell_type": "markdown",
      "source": [
        "Выпишите последовательности строк и столбцов матрицы, укажите в каждом случае размерности и элементы a12, a21, a22."
      ],
      "metadata": {
        "id": "nLN8Zk42f8hr"
      }
    },
    {
      "cell_type": "code",
      "source": [
        "# Старая неоптимизированная функция, жалко удалять)\n",
        "def print_matrix(matrix, type):\n",
        "  row = check_len(matrix);\n",
        "  column = check_len(matrix[0]);\n",
        "  string_type = \"Строка \" if type else \"Столбец \";\n",
        "\n",
        "  for i in range (0, row if type else column):\n",
        "    output = string_type + str(i + 1) + \":  \";\n",
        "    limit = column if type else row;\n",
        "    for j in range (0, limit):\n",
        "      a = matrix[i][j] if type else matrix[j][i];\n",
        "      output += str(a) if j == limit else str(a) + \", \";\n",
        "    print(output);\n",
        "  print();"
      ],
      "metadata": {
        "id": "wQXbfe0VlmVl"
      },
      "execution_count": 13,
      "outputs": []
    },
    {
      "cell_type": "markdown",
      "source": [
        "Функции..."
      ],
      "metadata": {
        "id": "Iq2eIQgQtBTw"
      }
    },
    {
      "cell_type": "code",
      "source": [
        "# Построение обратной матрицы\n",
        "def reverse_matrix(matrix):\n",
        "  reverse_matrix = check_matrix(matrix);\n",
        "  if matrix != None:\n",
        "    #if (check_len(matrix) > 0):\n",
        "      #if (check_len(matrix[0]) > 0):\n",
        "        i_max = len(matrix);\n",
        "        j_max = len(matrix[0]);\n",
        "        reverse_matrix = [[0 for j in range(i_max)] for i in range(j_max)];\n",
        "        for j in range(j_max):\n",
        "          for i in range(i_max):\n",
        "            reverse_matrix[j][i] = matrix[i][j];\n",
        "  return reverse_matrix;\n",
        "\n",
        "\n",
        "# Вывод матрицы на экран\n",
        "def print_matrix(matrix, type):\n",
        "  matrix = check_matrix(matrix);\n",
        "  matrix = matrix if type else reverse_matrix(matrix);\n",
        "  order = \"  Прямой порядок\" if type else \"  Обратный порядок\";\n",
        "  string_type = \"    Строка \" if type else \"    Столбец \";\n",
        "  print(order);\n",
        "  for i in range (0, check_len(matrix)):\n",
        "    output = string_type + str(i + 1) + \":  \";\n",
        "    limit = check_len(matrix[i]);\n",
        "    for j in range (0, limit):\n",
        "      a = matrix[i][j];\n",
        "      output += str(a) if j == limit - 1 else str(a) + \", \";\n",
        "    print(output);\n",
        "  print();\n",
        "\n",
        "\n",
        "# Вывод метаданных\n",
        "def print_metadata(matrix):\n",
        "  if matrix != None:\n",
        "    matrix = check_matrix(matrix);\n",
        "    print(\"  Размер  \\n    Строк: \" + str(check_len(matrix)) + \"  \\n    Столбцов: \" + str(check_len(matrix[0]) if check_len(matrix) > 0 else 0) + \"\\n\");\n",
        "    return;\n",
        "  print(\"  Матрицы не существует. Вы обращаетесь к симулякру.\");\n",
        "  return;\n",
        "\n",
        "\n",
        "# Вывод указанных элементов на экран\n",
        "def print_matrix_elements(matrix, elements):\n",
        "  print(\"  Элементы матрицы:\");\n",
        "  for i in range (0, check_len(elements)):\n",
        "    if (check_len(elements[i]) >= 2):\n",
        "      row_index = elements[i][0];\n",
        "      column_index = elements[i][1];\n",
        "      print(\"    a[\" + str(row_index) + \"][\" + str(column_index) + \"] = \" + str(matrix[row_index - 1][column_index - 1]));\n",
        "  print(\"\" if str(check_len(elements) > 0) else \"    Не определены!!!\\n\");\n",
        "\n"
      ],
      "metadata": {
        "id": "OetlaeWqtD5j"
      },
      "execution_count": 14,
      "outputs": []
    },
    {
      "cell_type": "markdown",
      "source": [
        "Матрица A = [ [1, -1, 2, 0], [0, 1, 1, 3] ]"
      ],
      "metadata": {
        "id": "8M2ZGRlftFSZ"
      }
    },
    {
      "cell_type": "code",
      "execution_count": 15,
      "metadata": {
        "colab": {
          "base_uri": "https://localhost:8080/"
        },
        "id": "oDTjwDiAfuOP",
        "outputId": "fd30bf37-5a42-4f24-c553-1d917e0dc592"
      },
      "outputs": [
        {
          "output_type": "stream",
          "name": "stdout",
          "text": [
            "Матрица A\n",
            "  Размер  \n",
            "    Строк: 2  \n",
            "    Столбцов: 4\n",
            "\n",
            "  Прямой порядок\n",
            "    Строка 1:  1, -1, 2, 0\n",
            "    Строка 2:  0, 1, 1, 3\n",
            "\n",
            "  Обратный порядок\n",
            "    Столбец 1:  1, 0\n",
            "    Столбец 2:  -1, 1\n",
            "    Столбец 3:  2, 1\n",
            "    Столбец 4:  0, 3\n",
            "\n",
            "  Элементы матрицы:\n",
            "    a[1][2] = -1\n",
            "    a[2][1] = 0\n",
            "    a[2][2] = 1\n",
            "\n"
          ]
        }
      ],
      "source": [
        "# A = [ [1, -1, 2, 0], [0, 1, 1, 3] ]\n",
        "A = [ [1, -1, 2, 0], [0, 1, 1, 3] ];\n",
        "print(\"Матрица A\");\n",
        "print_metadata(A);\n",
        "print_matrix(A, True);   # Прямой порядок\n",
        "print_matrix(A, False);   # Обратный порядок\n",
        "print_matrix_elements(A, [ [1, 2], [2, 1], [2, 2] ]);\n",
        "\n"
      ]
    },
    {
      "cell_type": "markdown",
      "source": [
        "Матрица B = [ [1, 0, -1, 3, 2], [0, 1, 1, 2, 0], [-1, 2, 0, 3, 0] ]"
      ],
      "metadata": {
        "id": "q1mRSBvztVnN"
      }
    },
    {
      "cell_type": "code",
      "source": [
        "# B = [ [1, 0, -1, 3, 2], [0, 1, 1, 2, 0], [-1, 2, 0, 3, 0] ]\n",
        "B = [ [1, 0, -1, 3, 2], [0, 1, 1, 2, 0], [-1, 2, 0, 3, 0] ];\n",
        "print(\"Матрица B\");\n",
        "print_metadata(B);\n",
        "print_matrix(B, True);   # Прямой порядок\n",
        "print_matrix(B, False);   # Обратный порядок\n",
        "print_matrix_elements(B, [ [1, 2], [2, 1], [2, 2] ]);\n",
        "\n"
      ],
      "metadata": {
        "colab": {
          "base_uri": "https://localhost:8080/"
        },
        "id": "GxPRBl0ltVRz",
        "outputId": "b9de909d-1ef5-46e3-bf60-ff78e4095a7b"
      },
      "execution_count": 16,
      "outputs": [
        {
          "output_type": "stream",
          "name": "stdout",
          "text": [
            "Матрица B\n",
            "  Размер  \n",
            "    Строк: 3  \n",
            "    Столбцов: 5\n",
            "\n",
            "  Прямой порядок\n",
            "    Строка 1:  1, 0, -1, 3, 2\n",
            "    Строка 2:  0, 1, 1, 2, 0\n",
            "    Строка 3:  -1, 2, 0, 3, 0\n",
            "\n",
            "  Обратный порядок\n",
            "    Столбец 1:  1, 0, -1\n",
            "    Столбец 2:  0, 1, 2\n",
            "    Столбец 3:  -1, 1, 0\n",
            "    Столбец 4:  3, 2, 3\n",
            "    Столбец 5:  2, 0, 0\n",
            "\n",
            "  Элементы матрицы:\n",
            "    a[1][2] = 0\n",
            "    a[2][1] = 0\n",
            "    a[2][2] = 1\n",
            "\n"
          ]
        }
      ]
    },
    {
      "cell_type": "markdown",
      "source": [
        "Матрица C = [ [1, 1, 2], [2, 1, 3], [3, 1, 0], [0, -1, 1] ]"
      ],
      "metadata": {
        "id": "_LrtHf-SxSdd"
      }
    },
    {
      "cell_type": "code",
      "source": [
        "# C = [ [1, 1, 2], [2, 1, 3], [3, 1, 0], [0, -1, 1] ]\n",
        "C = [ [1, 1, 2], [2, 1, 3], [3, 1, 0], [0, -1, 1] ];\n",
        "print(\"Матрица C\");\n",
        "print_metadata(C);\n",
        "print_matrix(C, True);   # Прямой порядок\n",
        "print_matrix(C, False);   # Обратный порядок\n",
        "print_matrix_elements(C, [ [1, 2], [2, 1], [2, 2] ]);\n",
        "\n"
      ],
      "metadata": {
        "colab": {
          "base_uri": "https://localhost:8080/"
        },
        "id": "2bbGoHohxSyb",
        "outputId": "05223278-ff1e-4fc0-e814-f9987d01e810"
      },
      "execution_count": 17,
      "outputs": [
        {
          "output_type": "stream",
          "name": "stdout",
          "text": [
            "Матрица C\n",
            "  Размер  \n",
            "    Строк: 4  \n",
            "    Столбцов: 3\n",
            "\n",
            "  Прямой порядок\n",
            "    Строка 1:  1, 1, 2\n",
            "    Строка 2:  2, 1, 3\n",
            "    Строка 3:  3, 1, 0\n",
            "    Строка 4:  0, -1, 1\n",
            "\n",
            "  Обратный порядок\n",
            "    Столбец 1:  1, 2, 3, 0\n",
            "    Столбец 2:  1, 1, 1, -1\n",
            "    Столбец 3:  2, 3, 0, 1\n",
            "\n",
            "  Элементы матрицы:\n",
            "    a[1][2] = 1\n",
            "    a[2][1] = 2\n",
            "    a[2][2] = 1\n",
            "\n"
          ]
        }
      ]
    },
    {
      "cell_type": "markdown",
      "source": [
        "## Задание 2"
      ],
      "metadata": {
        "id": "TFfYdTBvfiqp"
      }
    },
    {
      "cell_type": "markdown",
      "source": [
        "Функция нахождения суммы двух матриц...\n",
        "Матрицы одинаковой размерности можно складывать, соответственно складывая каждые a_ij с b_ij"
      ],
      "metadata": {
        "id": "elpFh2mrgo6g"
      }
    },
    {
      "cell_type": "code",
      "source": [
        "# Функция нахождения суммы двух матриц...\n",
        "def check_matrix_sum(A, B):\n",
        "  # A_type = type(A) == int;\n",
        "  # B_type = type(B) == int;\n",
        "  # if (A_type or B_type):\n",
        "  #   if (A_type and B_type):\n",
        "  #     return A + B;\n",
        "  #   else:\n",
        "  #     return False;\n",
        "  A = check_matrix(A);\n",
        "  B = check_matrix(B);\n",
        "\n",
        "  A_row_len = len(A);\n",
        "  B_row_len = len(B);\n",
        "\n",
        "  if (A_row_len < 1 or B_row_len < 1):\n",
        "    return None;\n",
        "  #   A_type = type(A[0]) == int;\n",
        "  #   B_type = type(B[0]) == int;\n",
        "  #   if (A_type or B_type):\n",
        "  #     if (A_type and B_type and A_row_len == B_row_len):\n",
        "  #       С = [0 for i in range(len(A))];\n",
        "  #       for i in range (0, len(B)):\n",
        "  #         C[i] = A[i] + B[i];\n",
        "  #       return C;\n",
        "  #     else:\n",
        "  #       return False;\n",
        "  #   else:\n",
        "  A_column_len = len(A[0]);\n",
        "  B_column_len = len(B[0]);\n",
        "  if (A_row_len == B_row_len and A_column_len == B_column_len):\n",
        "    C = [[0 for j in range(len(B[0]))] for i in range(len(A))] if len(A[0]) > 1 and len(B[0]) > 1 else [0 for i in range(len(B))];\n",
        "    for i in range (0, len(A)):\n",
        "      for j in range (0, len(B[i])):\n",
        "        C[i][j] = A[i][j] + B[i][j];\n",
        "    return C;\n",
        "  return False;\n",
        "\n",
        "\n",
        "# Вывод возможности суммы матриц на экран\n",
        "def matrix_sum(A, B):\n",
        "  C = check_matrix_sum(A, B)\n",
        "  if (C == None):\n",
        "    # print(\"Нахождение сумм матриц невозможно, поскольку матрицы нулевые!!!\");\n",
        "    return \"Нахождение сумм матриц невозможно, поскольку матрицы нулевые!!!\";\n",
        "  elif (not C):\n",
        "    # print(\"Нахождение сумм матриц невозможно, поскольку размерности матриц - разные!!!\");\n",
        "    return \"Нахождение сумм матриц невозможно, поскольку размерности матриц - разные!!!\";\n",
        "  else:\n",
        "    # print_matrix(C, True);\n",
        "    return C;\n",
        "\n"
      ],
      "metadata": {
        "id": "6D9aVHeggojB"
      },
      "execution_count": 18,
      "outputs": []
    },
    {
      "cell_type": "markdown",
      "source": [
        "Можно ли найти сумму матриц A и B?"
      ],
      "metadata": {
        "id": "QOy0ZeHafmWZ"
      }
    },
    {
      "cell_type": "markdown",
      "source": [
        "а) A = [1, 2],  B = [ [3, 0] ]"
      ],
      "metadata": {
        "id": "bEvaCZrzfxfp"
      }
    },
    {
      "cell_type": "code",
      "source": [
        "# A = [ [1, 2] ],  B = [ [3], [0] ]\n",
        "A = [ [1, 2] ];\n",
        "B = [ [3], [0] ];\n",
        "C = matrix_sum(A, B);\n",
        "print(\"A + B = \");\n",
        "print_matrix(C, True) if type(C) != str else print(C);\n",
        "\n"
      ],
      "metadata": {
        "colab": {
          "base_uri": "https://localhost:8080/"
        },
        "id": "ry97l2Plfw9K",
        "outputId": "0588f7d9-9e02-4efb-b524-71df4b39261c"
      },
      "execution_count": 58,
      "outputs": [
        {
          "output_type": "stream",
          "name": "stdout",
          "text": [
            "A + B = \n",
            "Нахождение сумм матриц невозможно, поскольку размерности матриц - разные!!!\n"
          ]
        }
      ]
    },
    {
      "cell_type": "markdown",
      "source": [
        "б) A = [0, 1],  B = [0, 2, 3]"
      ],
      "metadata": {
        "id": "jEX2DO5gf8-y"
      }
    },
    {
      "cell_type": "code",
      "source": [
        "# A = [ [0, 1] ],  B = [ [0, 2, 3] ]\n",
        "A = [ [0, 1] ];\n",
        "B = [ [0, 2, 3] ];\n",
        "C = matrix_sum(A, B);\n",
        "print(\"A + B = \");\n",
        "print_matrix(C, True) if type(C) != str else print(C);\n",
        "\n"
      ],
      "metadata": {
        "colab": {
          "base_uri": "https://localhost:8080/"
        },
        "id": "UlI6vTcygDUC",
        "outputId": "f05d314b-c0fb-444b-8c35-d1cfb8ac8040"
      },
      "execution_count": 59,
      "outputs": [
        {
          "output_type": "stream",
          "name": "stdout",
          "text": [
            "A + B = \n",
            "Нахождение сумм матриц невозможно, поскольку размерности матриц - разные!!!\n"
          ]
        }
      ]
    },
    {
      "cell_type": "markdown",
      "source": [
        "в) A = [ [1, -1], [0, 2] ],  B = [ [2, 3], [4, -3] ]"
      ],
      "metadata": {
        "id": "RTkqXSwbgC6Q"
      }
    },
    {
      "cell_type": "code",
      "source": [
        "# A = [ [1, -1], [0, 2] ],  B = [ [2, 3], [4, -3] ]\n",
        "A = [ [1, -1], [0, 2] ];\n",
        "B = [ [2, 3], [4, -3] ];\n",
        "C = matrix_sum(A, B);\n",
        "print(\"A + B = \");\n",
        "print_matrix(C, True) if type(C) != str else print(C);\n",
        "\n"
      ],
      "metadata": {
        "colab": {
          "base_uri": "https://localhost:8080/"
        },
        "id": "PmuoCfTSgSfn",
        "outputId": "0ad54df4-8fa3-44e4-d4a9-e23a5cd029d3"
      },
      "execution_count": 60,
      "outputs": [
        {
          "output_type": "stream",
          "name": "stdout",
          "text": [
            "A + B = \n",
            "  Прямой порядок\n",
            "    Строка 1:  3, 2\n",
            "    Строка 2:  4, -1\n",
            "\n"
          ]
        }
      ]
    },
    {
      "cell_type": "markdown",
      "source": [
        "г) A = [ [1, 2, 0, 1], [-1, 3, -2, 4] ],  B = [ [2, 5, -1, 3], [3, 0, -2, 4] ]"
      ],
      "metadata": {
        "id": "rX2bHcRTgSKT"
      }
    },
    {
      "cell_type": "code",
      "source": [
        "# A = [ [1, 2, 0, 1], [-1, 3, -2, 4] ],  B = [ [2, 5, -1, 3], [3, 0, -2, 4] ]\n",
        "A = [ [1, 2, 0, 1], [-1, 3, -2, 4] ];\n",
        "B = [ [2, 5, -1, 3], [3, 0, -2, 4] ];\n",
        "C = matrix_sum(A, B);\n",
        "print(\"A + B = \");\n",
        "print_matrix(C, True) if type(C) != str else print(C);\n",
        "\n"
      ],
      "metadata": {
        "colab": {
          "base_uri": "https://localhost:8080/"
        },
        "id": "1w15upf_gdb_",
        "outputId": "08dd28a6-b9f1-4d12-e9fd-a9906d5a0517"
      },
      "execution_count": 61,
      "outputs": [
        {
          "output_type": "stream",
          "name": "stdout",
          "text": [
            "A + B = \n",
            "  Прямой порядок\n",
            "    Строка 1:  3, 7, -1, 4\n",
            "    Строка 2:  2, 3, -4, 8\n",
            "\n"
          ]
        }
      ]
    },
    {
      "cell_type": "markdown",
      "source": [
        "## Задание 3"
      ],
      "metadata": {
        "id": "qJRPBCqhGuRX"
      }
    },
    {
      "cell_type": "markdown",
      "source": [
        "Функция нахождения произведения строки на столбец... Строку на столбец можно умножить только в том случае, если в них одинаковое количество элементов."
      ],
      "metadata": {
        "id": "NqUV5OF6GxOz"
      }
    },
    {
      "cell_type": "code",
      "source": [
        "# Функция нахождения произведения строки на столбец\n",
        "def check_row_column_multiplication(A, B):\n",
        "  # print(A);\n",
        "  # print(B);\n",
        "  A = check_matrix(A);\n",
        "  B = check_matrix(B);\n",
        "  # A_type = type(A) == int;\n",
        "  # B_type = type(B) == int;\n",
        "  # if (A_type or B_type):\n",
        "  #   if (A_type and B_type):\n",
        "  #     return A * B;\n",
        "  #   else:\n",
        "  #     return False;\n",
        "  #   return None;\n",
        "  # print(A);\n",
        "  # print(B);\n",
        "\n",
        "  A_len = check_len(A);\n",
        "  B_len = check_len(B);\n",
        "  A0_len = check_len(A[0]);\n",
        "  B0_len = check_len(B[0]);\n",
        "  # print(\"A = \" + str(A_len) + \",  A0 = \" + str(A0_len) + \",  B = \" + str(B_len) + \",  B0 = \" + str(B0_len));\n",
        "\n",
        "  if (A_len == 1 and B0_len == 1 and A0_len == B_len):\n",
        "    # Если у нас A - столбец, B - строка\n",
        "    # print(\"Если у нас A - столбец, B - строка\");\n",
        "    C = 0;\n",
        "    for i in range (0, check_len(B)):\n",
        "      C += A[0][i] * B[i][0];\n",
        "    return C;\n",
        "  if (A0_len == 1 and B_len == 1 and A_len == B0_len):\n",
        "    # Если у нас A - строка, B - столбец\n",
        "    # print(\"Если у нас A - строка, B - столбец\");\n",
        "    C = 0;\n",
        "    for i in range (0, check_len(A)):\n",
        "      C += A[i][0] * B[0][i];\n",
        "    return C;\n",
        "\n",
        "  return False;\n",
        "\n",
        "\n",
        "# Вывод возможности произведения строки на столбец на экран\n",
        "def row_column_multiplication(A, B):\n",
        "  C = check_row_column_multiplication(A, B);\n",
        "  if (C == None):\n",
        "    # print(\"Нахождение произведения строки на столбец невозможно, поскольку строка и столбец нулевые!!!\");\n",
        "    return \"Нахождение произведения строки на столбец невозможно, поскольку строка и столбец нулевые!!!\";\n",
        "  elif (type(C) == int):\n",
        "    return C;\n",
        "  elif (not C or C != 0):\n",
        "    # print(\"Нахождение произведения строки на столбец невозможно, поскольку размерности строки и столбца - разные!!!\");\n",
        "    return \"Нахождение произведения строки на столбец невозможно, поскольку размерности строки и столбца - разные!!!\";\n",
        "  else:\n",
        "    # print_matrix(C, True);\n",
        "    return C;\n",
        "\n"
      ],
      "metadata": {
        "id": "s0mH2XHxiYNW"
      },
      "execution_count": 105,
      "outputs": []
    },
    {
      "cell_type": "markdown",
      "source": [
        "а) A = [1, -1],  B = [ [0], [2], [1] ]"
      ],
      "metadata": {
        "id": "KWO-IjDviYoj"
      }
    },
    {
      "cell_type": "code",
      "source": [
        "# A = [ [1, -1] ],  B = [ [0], [2], [1] ]\n",
        "A = [ [1, -1] ];\n",
        "B = [ [0], [2], [1] ];\n",
        "C = row_column_multiplication(A, B);\n",
        "print(\"Произведение строки A на столбец B: \");\n",
        "print(C);\n",
        "\n"
      ],
      "metadata": {
        "colab": {
          "base_uri": "https://localhost:8080/"
        },
        "id": "XiPjmYSwi6LU",
        "outputId": "568ae159-1aa3-42b2-d762-7846f130604e"
      },
      "execution_count": 106,
      "outputs": [
        {
          "output_type": "stream",
          "name": "stdout",
          "text": [
            "Произведение строки A на столбец B: \n",
            "Нахождение произведения строки на столбец невозможно, поскольку размерности строки и столбца - разные!!!\n"
          ]
        }
      ]
    },
    {
      "cell_type": "markdown",
      "source": [
        "б) A = [1, -2, 2],  B = [ [1], [-2] ]"
      ],
      "metadata": {
        "id": "eA5q_w9yi8ip"
      }
    },
    {
      "cell_type": "code",
      "source": [
        "# A = [ [1, -2, 2] ],  B = [ [1], [-2] ]\n",
        "A = [ [1, -2, 2] ];\n",
        "B = [ [1], [-2] ];\n",
        "C = row_column_multiplication(A, B);\n",
        "print(\"Произведение строки A на столбец B: \");\n",
        "print(C);\n",
        "\n"
      ],
      "metadata": {
        "colab": {
          "base_uri": "https://localhost:8080/"
        },
        "id": "YOqlLgWhjCIw",
        "outputId": "e2754fc4-7b58-4a29-856a-3e21151f4e00"
      },
      "execution_count": 107,
      "outputs": [
        {
          "output_type": "stream",
          "name": "stdout",
          "text": [
            "Произведение строки A на столбец B: \n",
            "Нахождение произведения строки на столбец невозможно, поскольку размерности строки и столбца - разные!!!\n"
          ]
        }
      ]
    },
    {
      "cell_type": "markdown",
      "source": [
        "в) A = [1, -1],  B = [0, -2]"
      ],
      "metadata": {
        "id": "qy-RKGrFjDca"
      }
    },
    {
      "cell_type": "code",
      "source": [
        "# A = [ [1, -1] ],  B = [ [0, -2] ]\n",
        "A = [ [1, -1] ];\n",
        "B = [ [0, -2] ];\n",
        "C = row_column_multiplication(A, B);\n",
        "print(\"Произведение строки A на столбец B: \");\n",
        "print(C);\n",
        "\n"
      ],
      "metadata": {
        "colab": {
          "base_uri": "https://localhost:8080/"
        },
        "id": "y94AomhwjK2x",
        "outputId": "7097e3c1-308e-4c16-8b2a-80c61fbfb94b"
      },
      "execution_count": 108,
      "outputs": [
        {
          "output_type": "stream",
          "name": "stdout",
          "text": [
            "Произведение строки A на столбец B: \n",
            "Нахождение произведения строки на столбец невозможно, поскольку размерности строки и столбца - разные!!!\n"
          ]
        }
      ]
    },
    {
      "cell_type": "markdown",
      "source": [
        "## Задание 4"
      ],
      "metadata": {
        "id": "APpLAOfdLKYM"
      }
    },
    {
      "cell_type": "markdown",
      "source": [
        "Функция нахождения произведения двух матриц... Матрицы можно перемножать между собой тогда, когда число столбцов первой матрицы равно числу строк второй матрицы."
      ],
      "metadata": {
        "id": "H4ucKNmwltXn"
      }
    },
    {
      "cell_type": "code",
      "source": [
        "# Функция проверки возможности произведения матриц\n",
        "def check_matrix_multiplication(A, B):\n",
        "  A_correct = check_correct_matrix(A);\n",
        "  B_correct = check_correct_matrix(B);\n",
        "  row_column_correct = len(A) == len(B[0]) or len(A[0]) == len(B);\n",
        "  return A_correct and B_correct and row_column_correct;\n",
        "\n",
        "\n",
        "# Функция определения, какую матрицу на какую умножать!\n",
        "def define_matrix(A, B):\n",
        "  A = check_matrix(A);\n",
        "  B = check_matrix(B);\n",
        "  if (len(A[0]) == len(B)):\n",
        "    return { 'A' : A, 'B' : B };\n",
        "  elif (len(A) == len(B[0])):\n",
        "    return { 'A' : B, 'B' : A };\n",
        "  else:\n",
        "    return False;\n",
        "\n",
        "\n",
        "# Функция получения столбца из матрицы!\n",
        "def matrix_column(A, column):\n",
        "  A = check_matrix(A);\n",
        "  B = [ [0] for i in range(len(A)) ];\n",
        "  for i in range (0, len(A)):\n",
        "    B[i][0] = A[i][column];\n",
        "  return B;\n",
        "\n",
        "\n",
        "\n",
        "# Функция нахождения произведения матриц\n",
        "def matrix_multiplication(A, B):\n",
        "  definition = define_matrix(A, B);\n",
        "  # print(\"A = \" + str(A));\n",
        "  # print(\"B = \" + str(B));\n",
        "  if (definition != False):\n",
        "    if (check_matrix_multiplication(A, B)):\n",
        "      A = definition['A'];\n",
        "      B = definition['B'];\n",
        "      C = [ [0 for j in range(len(B[0]))] for i in range(len(A)) ]\n",
        "      # print(\"A = \" + str(A));\n",
        "      # print(\"B = \" + str(B));\n",
        "      # print_matrix(A[0], True);\n",
        "      # print_matrix(matrix_column(B, 1), True);\n",
        "      # print(A[0]);\n",
        "      # print(matrix_column(B, 0));\n",
        "      for i in range (0, len(A)):\n",
        "        for j in range (0, len(B[0])):\n",
        "          # print_matrix(A[i], False);\n",
        "          # print_matrix(matrix_column(B, j), True);\n",
        "          C[i][j] = row_column_multiplication(A[i], matrix_column(B, j));\n",
        "      # print_matrix(C, True);\n",
        "      return C;\n",
        "  print(\"Матрицы невозможно перемножить между собой: количество столбцов первой матрицы, равное \" + str(len(A[0])) + \" не равно количеству строк второй матрицы, равных \" + str(len(B)) +\" ...\");\n",
        "\n",
        "\n",
        "def matrix_number_multiplication(A, number):\n",
        "  A = check_matrix(A);\n",
        "  for i in range (0, len(A)):\n",
        "    for j in range (0, len(A[i])):\n",
        "      A[i][j] *= number;\n",
        "  return A;\n",
        "\n"
      ],
      "metadata": {
        "id": "N1HYQUM8lS3R"
      },
      "execution_count": 31,
      "outputs": []
    },
    {
      "cell_type": "markdown",
      "source": [
        "-а) A = [ [2, 1, 3, 0], [-1, 3, 1, 5] ]  *  B = [ [1, 0, -1], [0, 1, 1], [2, 1, -1], [1, 2, 0] ]  =  ?"
      ],
      "metadata": {
        "id": "-2GQpE7G9VoV"
      }
    },
    {
      "cell_type": "code",
      "source": [
        "# A = [ [2, 1, 3, 0], [-1, 3, 1, 5] ],  B = [ [1, 0, -1], [0, 1, 1], [2, 1, -1], [1, 2, 0] ]\n",
        "A = [ [2, 1, 3, 0], [-1, 3, 1, 5] ];\n",
        "B = [ [1, 0, -1], [0, 1, 1], [2, 1, -1], [1, 2, 0] ];\n",
        "ABC = matrix_multiplication(A, B);\n",
        "BAC = matrix_multiplication(B, A);\n",
        "print(\"A * B = \");\n",
        "print_matrix(ABC, True);\n",
        "print(\"B * A = \");\n",
        "print_matrix(BAC, True);\n",
        "\n"
      ],
      "metadata": {
        "colab": {
          "base_uri": "https://localhost:8080/"
        },
        "id": "78CG61-l9qq3",
        "outputId": "6a14d8da-4d25-4efb-f1cf-780bb7da296f"
      },
      "execution_count": 119,
      "outputs": [
        {
          "output_type": "stream",
          "name": "stdout",
          "text": [
            "A * B = \n",
            "  Прямой порядок\n",
            "    Строка 1:  8, 4, -4\n",
            "    Строка 2:  6, 14, 3\n",
            "\n",
            "B * A = \n",
            "  Прямой порядок\n",
            "    Строка 1:  8, 4, -4\n",
            "    Строка 2:  6, 14, 3\n",
            "\n"
          ]
        }
      ]
    },
    {
      "cell_type": "markdown",
      "source": [
        "а) A = [ [1, -1, 3], [2, 0, 1] ]  *  B = [ [1, 1], [-1, 2], [0, -1] ]  =  ?"
      ],
      "metadata": {
        "id": "T4FctOrwLrIG"
      }
    },
    {
      "cell_type": "code",
      "source": [
        "# A = [ [1, -1, 3], [2, 0, 1] ],  B = [ [1, 1], [-1, 2], [0, -1] ]\n",
        "A = [ [1, -1, 3], [2, 0, 1] ];\n",
        "B = [ [1, 1], [-1, 2], [0, -1] ];\n",
        "ABC = matrix_multiplication(A, B);\n",
        "BAC = matrix_multiplication(B, A);\n",
        "print(\"A * B = \");\n",
        "print_matrix(ABC, True);\n",
        "print(\"B * A = \");\n",
        "print_matrix(BAC, True);\n",
        "\n"
      ],
      "metadata": {
        "colab": {
          "base_uri": "https://localhost:8080/"
        },
        "id": "VBl-VF-6L89D",
        "outputId": "801a1151-3a2d-4ebe-80a2-2a87eb42b063"
      },
      "execution_count": 118,
      "outputs": [
        {
          "output_type": "stream",
          "name": "stdout",
          "text": [
            "A * B = \n",
            "  Прямой порядок\n",
            "    Строка 1:  2, -4\n",
            "    Строка 2:  2, 1\n",
            "\n",
            "B * A = \n",
            "  Прямой порядок\n",
            "    Строка 1:  3, -1, 4\n",
            "    Строка 2:  3, 1, -1\n",
            "    Строка 3:  -2, 0, -1\n",
            "\n"
          ]
        }
      ]
    },
    {
      "cell_type": "markdown",
      "source": [
        "б) A = [ [1, 2, 1], [-1, 2, 1], [0, 1, -1] ],  ^2"
      ],
      "metadata": {
        "id": "XaOcrScRL-Fa"
      }
    },
    {
      "cell_type": "code",
      "source": [
        "# A = [ [1, 2, 1], [-1, 2, 1], [0, 1, -1] ],  ^2\n",
        "A = [ [1, 2, 1], [-1, 2, 1], [0, 1, -1] ];\n",
        "B = matrix_multiplication(A, A);\n",
        "print(\"Возведение матрицы A в квадрат: \");\n",
        "print_matrix(B, True)\n",
        "\n"
      ],
      "metadata": {
        "colab": {
          "base_uri": "https://localhost:8080/"
        },
        "id": "0kQVofW4MNTg",
        "outputId": "dacd2f5b-5b52-4f43-91a7-9d44b42e26cf"
      },
      "execution_count": 111,
      "outputs": [
        {
          "output_type": "stream",
          "name": "stdout",
          "text": [
            "Возведение матрицы A в квадрат: \n",
            "  Прямой порядок\n",
            "    Строка 1:  -1, 7, 2\n",
            "    Строка 2:  -3, 3, 0\n",
            "    Строка 3:  -1, 1, 2\n",
            "\n"
          ]
        }
      ]
    },
    {
      "cell_type": "markdown",
      "source": [
        "в) A = [ [4, 2, 1], [4, 5, 2], [3, 2, 1] ]  *  B = [ [1, 0, -1], [2, 1, -4], [-7, -2, 12] ]  =  ?"
      ],
      "metadata": {
        "id": "5N4QsNogMW3v"
      }
    },
    {
      "cell_type": "code",
      "source": [
        "# A = [ [4, 2, 1], [4, 5, 2], [3, 2, 1] ],  B = [ [1, 0, -1], [2, 1, -4], [-7, -2, 12] ]\n",
        "A = [ [4, 2, 1], [4, 5, 2], [3, 2, 1] ];\n",
        "B = [ [1, 0, -1], [2, 1, -4], [-7, -2, 12] ];\n",
        "ABC = matrix_multiplication(A, B);\n",
        "BAC = matrix_multiplication(B, A);\n",
        "print(\"A * B = \");\n",
        "print_matrix(ABC, True);\n",
        "print(\"B * A = \");\n",
        "print_matrix(BAC, True);\n",
        "\n"
      ],
      "metadata": {
        "colab": {
          "base_uri": "https://localhost:8080/"
        },
        "id": "dc6kccMxMqgb",
        "outputId": "48240a41-109a-4aa9-8fe3-9d62b0f27ed0"
      },
      "execution_count": 117,
      "outputs": [
        {
          "output_type": "stream",
          "name": "stdout",
          "text": [
            "A * B = \n",
            "  Прямой порядок\n",
            "    Строка 1:  1, 0, 0\n",
            "    Строка 2:  0, 1, 0\n",
            "    Строка 3:  0, 0, 1\n",
            "\n",
            "B * A = \n",
            "  Прямой порядок\n",
            "    Строка 1:  1, 0, 0\n",
            "    Строка 2:  0, 1, 0\n",
            "    Строка 3:  0, 0, 1\n",
            "\n"
          ]
        }
      ]
    },
    {
      "cell_type": "markdown",
      "source": [
        "г) 2 * ( A = [ [1, -1], [0, 1] ]  -  B = [ [3, -2], [-1, 1] ] ) + ( C = [ [1, 2], [0, 1] ]  *  D = [ [2, 1], [1, -1] ] )"
      ],
      "metadata": {
        "id": "iP8wg2RmM12Q"
      }
    },
    {
      "cell_type": "code",
      "source": [
        "# 2 * ( A = [ [1, -1], [0, 1] ]  -  B = [ [3, -2], [-1, 1] ] ) + ( C = [ [1, 2], [0, 1] ]  *  D = [ [2, 1], [1, -1] ] )\n",
        "A = [ [1, -1], [0, 1] ];\n",
        "B = [ [3, -2], [-1, 1] ];\n",
        "C = [ [1, 2], [0, 1] ];\n",
        "D = [ [2, 1], [1, -1] ];\n",
        "\n",
        "# A2 = matrix_number_multiplication(A, 2);\n",
        "print(\"-B = \");\n",
        "Bm1 = matrix_number_multiplication(B, -1);\n",
        "# print_matrix(A2, True);\n",
        "print_matrix(Bm1, True);\n",
        "\n",
        "print(\"A - B = \");\n",
        "AmB = matrix_sum(A, Bm1);\n",
        "# print(AmB);\n",
        "print_matrix(AmB, True);\n",
        "\n",
        "print(\"2 * (A - B) = \");\n",
        "AmB2 = matrix_number_multiplication(AmB, 2);\n",
        "print_matrix(AmB2, True);\n",
        "\n",
        "print(\"C * D = \");\n",
        "CD = matrix_multiplication(C, D);\n",
        "print_matrix(CD, True);\n",
        "\n",
        "print(\"2 * (A - B) + C * D = \");\n",
        "AmB2pCD = matrix_sum(AmB2, CD);\n",
        "print_matrix(AmB2pCD, True);\n",
        "\n"
      ],
      "metadata": {
        "colab": {
          "base_uri": "https://localhost:8080/"
        },
        "id": "uhIXQWLGNU7N",
        "outputId": "852ce85a-3fdf-48c9-be32-66f14c59055c"
      },
      "execution_count": 114,
      "outputs": [
        {
          "output_type": "stream",
          "name": "stdout",
          "text": [
            "-B = \n",
            "  Прямой порядок\n",
            "    Строка 1:  -3, 2\n",
            "    Строка 2:  1, -1\n",
            "\n",
            "A - B = \n",
            "  Прямой порядок\n",
            "    Строка 1:  -2, 1\n",
            "    Строка 2:  1, 0\n",
            "\n",
            "2 * (A - B) = \n",
            "  Прямой порядок\n",
            "    Строка 1:  -4, 2\n",
            "    Строка 2:  2, 0\n",
            "\n",
            "C * D = \n",
            "  Прямой порядок\n",
            "    Строка 1:  4, -1\n",
            "    Строка 2:  1, -1\n",
            "\n",
            "2 * (A - B) + C * D = \n",
            "  Прямой порядок\n",
            "    Строка 1:  0, 1\n",
            "    Строка 2:  3, -1\n",
            "\n"
          ]
        }
      ]
    },
    {
      "cell_type": "markdown",
      "source": [
        "## Задание 5"
      ],
      "metadata": {
        "id": "nNttRGN5bpeh"
      }
    },
    {
      "cell_type": "markdown",
      "source": [
        "Выпишите последовательности строк и столбцов матрицы, укажите в каждом случае размерности и элементы a12, a21, a22."
      ],
      "metadata": {
        "id": "Dq9Zk3YXbs-g"
      }
    },
    {
      "cell_type": "markdown",
      "source": [
        "а) A = [ [1, 2, 3, 4, 5], [6, 7, 8, 9, 1] ]"
      ],
      "metadata": {
        "id": "cUCybx_jbwsI"
      }
    },
    {
      "cell_type": "code",
      "source": [
        "# A = [ [1, 2, 3, 4, 5], [6, 7, 8, 9, 1] ]\n",
        "A = [ [1, 2, 3, 4, 5], [6, 7, 8, 9, 1] ];\n",
        "print(\"Матрица A\");\n",
        "print_metadata(A);\n",
        "print_matrix(A, True);   # Прямой порядок\n",
        "print_matrix(A, False);   # Обратный порядок\n",
        "print_matrix_elements(A, [ [1, 2], [2, 1], [2, 2] ]);\n",
        "\n"
      ],
      "metadata": {
        "colab": {
          "base_uri": "https://localhost:8080/"
        },
        "id": "O2mwCg3UcsMv",
        "outputId": "1462cd5e-20eb-41ef-9357-5045eb4741bf"
      },
      "execution_count": 38,
      "outputs": [
        {
          "output_type": "stream",
          "name": "stdout",
          "text": [
            "Матрица A\n",
            "  Размер  \n",
            "    Строк: 2  \n",
            "    Столбцов: 5\n",
            "\n",
            "  Прямой порядок\n",
            "    Строка 1:  1, 2, 3, 4, 5\n",
            "    Строка 2:  6, 7, 8, 9, 1\n",
            "\n",
            "  Обратный порядок\n",
            "    Столбец 1:  1, 6\n",
            "    Столбец 2:  2, 7\n",
            "    Столбец 3:  3, 8\n",
            "    Столбец 4:  4, 9\n",
            "    Столбец 5:  5, 1\n",
            "\n",
            "  Элементы матрицы:\n",
            "    a[1][2] = 2\n",
            "    a[2][1] = 6\n",
            "    a[2][2] = 7\n",
            "\n"
          ]
        }
      ]
    },
    {
      "cell_type": "markdown",
      "source": [
        "б) A = [ [1, 0, -1], [2, 0, 3], [3, 1, -2] ]"
      ],
      "metadata": {
        "id": "8wjeOB08dAj5"
      }
    },
    {
      "cell_type": "code",
      "source": [
        "# A = [ [1, 0, -1], [2, 0, 3], [3, 1, -2] ]\n",
        "A = [ [1, 0, -1], [2, 0, 3], [3, 1, -2] ];\n",
        "print(\"Матрица A\");\n",
        "print_metadata(A);\n",
        "print_matrix(A, True);   # Прямой порядок\n",
        "print_matrix(A, False);   # Обратный порядок\n",
        "print_matrix_elements(A, [ [1, 2], [2, 1], [2, 2] ]);\n",
        "\n"
      ],
      "metadata": {
        "colab": {
          "base_uri": "https://localhost:8080/"
        },
        "id": "alz0K6HqdJX-",
        "outputId": "773c79fd-17bc-4d1e-e834-85114474d71d"
      },
      "execution_count": 39,
      "outputs": [
        {
          "output_type": "stream",
          "name": "stdout",
          "text": [
            "Матрица A\n",
            "  Размер  \n",
            "    Строк: 3  \n",
            "    Столбцов: 3\n",
            "\n",
            "  Прямой порядок\n",
            "    Строка 1:  1, 0, -1\n",
            "    Строка 2:  2, 0, 3\n",
            "    Строка 3:  3, 1, -2\n",
            "\n",
            "  Обратный порядок\n",
            "    Столбец 1:  1, 2, 3\n",
            "    Столбец 2:  0, 0, 1\n",
            "    Столбец 3:  -1, 3, -2\n",
            "\n",
            "  Элементы матрицы:\n",
            "    a[1][2] = 0\n",
            "    a[2][1] = 2\n",
            "    a[2][2] = 0\n",
            "\n"
          ]
        }
      ]
    },
    {
      "cell_type": "markdown",
      "source": [
        "в) A = [ [1, 0, 1, 0], [0, 1, 0, 1], [1, 1, 0, 0], [0, 0, 1, 1] ]"
      ],
      "metadata": {
        "id": "1EZJDpxqdM0A"
      }
    },
    {
      "cell_type": "code",
      "source": [
        "# A = [ [1, 0, 1, 0], [0, 1, 0, 1], [1, 1, 0, 0], [0, 0, 1, 1] ]\n",
        "A = [ [1, 0, 1, 0], [0, 1, 0, 1], [1, 1, 0, 0], [0, 0, 1, 1] ];\n",
        "print(\"Матрица A\");\n",
        "print_metadata(A);\n",
        "print_matrix(A, True);   # Прямой порядок\n",
        "print_matrix(A, False);   # Обратный порядок\n",
        "print_matrix_elements(A, [ [1, 2], [2, 1], [2, 2] ]);\n",
        "\n"
      ],
      "metadata": {
        "colab": {
          "base_uri": "https://localhost:8080/"
        },
        "id": "668zVqAqddTa",
        "outputId": "33291410-4aed-46a5-c395-5ebe38eb1efe"
      },
      "execution_count": 40,
      "outputs": [
        {
          "output_type": "stream",
          "name": "stdout",
          "text": [
            "Матрица A\n",
            "  Размер  \n",
            "    Строк: 4  \n",
            "    Столбцов: 4\n",
            "\n",
            "  Прямой порядок\n",
            "    Строка 1:  1, 0, 1, 0\n",
            "    Строка 2:  0, 1, 0, 1\n",
            "    Строка 3:  1, 1, 0, 0\n",
            "    Строка 4:  0, 0, 1, 1\n",
            "\n",
            "  Обратный порядок\n",
            "    Столбец 1:  1, 0, 1, 0\n",
            "    Столбец 2:  0, 1, 1, 0\n",
            "    Столбец 3:  1, 0, 0, 1\n",
            "    Столбец 4:  0, 1, 0, 1\n",
            "\n",
            "  Элементы матрицы:\n",
            "    a[1][2] = 0\n",
            "    a[2][1] = 0\n",
            "    a[2][2] = 1\n",
            "\n"
          ]
        }
      ]
    },
    {
      "cell_type": "markdown",
      "source": [
        "## Задание 6"
      ],
      "metadata": {
        "id": "7Iei3Fs6ggn8"
      }
    },
    {
      "cell_type": "markdown",
      "source": [
        "Сумма матриц A и B"
      ],
      "metadata": {
        "id": "FSORyd9xgi0x"
      }
    },
    {
      "cell_type": "markdown",
      "source": [
        "а) A = [ [1, 2], [3, 4] ],  B = [ [1, 2, 0], [0, 1, 2] ]"
      ],
      "metadata": {
        "id": "ngE9_FEogrVS"
      }
    },
    {
      "cell_type": "code",
      "source": [
        "# A = [ [1, 2], [3, 4] ],  B = [ [1, 2, 0], [0, 1, 2] ]\n",
        "A = [ [1, 2], [3, 4] ];\n",
        "B = [ [1, 2, 0], [0, 1, 2] ];\n",
        "C = matrix_sum(A, B);\n",
        "print(\"A + B = \");\n",
        "print_matrix(C, True) if type(C) != str else print(C);\n",
        "\n"
      ],
      "metadata": {
        "colab": {
          "base_uri": "https://localhost:8080/"
        },
        "id": "6g37usJzg15M",
        "outputId": "c8247d61-d99a-4d0e-9aa0-997eff7c24c8"
      },
      "execution_count": 64,
      "outputs": [
        {
          "output_type": "stream",
          "name": "stdout",
          "text": [
            "A + B = \n",
            "Нахождение сумм матриц невозможно, поскольку размерности матриц - разные!!!\n"
          ]
        }
      ]
    },
    {
      "cell_type": "markdown",
      "source": [
        "б) A = [ [1, -1, 2, 3], [2, 1, 0, 4], [-3, 2, 4, 0] ],  B= [ [0, 2, -1, -2], [-1, 0, 1, -3], [4, -1, -3, 1] ]"
      ],
      "metadata": {
        "id": "JRgtwSjahDnN"
      }
    },
    {
      "cell_type": "code",
      "source": [
        "# A = [ [1, -1, 2, 3], [2, 1, 0, 4], [-3, 2, 4, 0] ],  B= [ [0, 2, -1, -2], [-1, 0, 1, -3], [4, -1, -3, 1] ]\n",
        "A = [ [1, -1, 2, 3], [2, 1, 0, 4], [-3, 2, 4, 0] ];\n",
        "B= [ [0, 2, -1, -2], [-1, 0, 1, -3], [4, -1, -3, 1] ];\n",
        "C = matrix_sum(A, B);\n",
        "print(\"A + B = \");\n",
        "print_matrix(C, True) if type(C) != str else print(C);\n",
        "\n"
      ],
      "metadata": {
        "colab": {
          "base_uri": "https://localhost:8080/"
        },
        "id": "fctBZ1hNj9jK",
        "outputId": "6b4ba807-4c4b-4f9f-8477-bef60d1c7667"
      },
      "execution_count": 62,
      "outputs": [
        {
          "output_type": "stream",
          "name": "stdout",
          "text": [
            "A + B = \n",
            "  Прямой порядок\n",
            "    Строка 1:  1, 1, 1, 1\n",
            "    Строка 2:  1, 1, 1, 1\n",
            "    Строка 3:  1, 1, 1, 1\n",
            "\n"
          ]
        }
      ]
    },
    {
      "cell_type": "markdown",
      "source": [
        "## Задание 7"
      ],
      "metadata": {
        "id": "S0x2ozvbl-t5"
      }
    },
    {
      "cell_type": "markdown",
      "source": [
        "Произведение строки A на столбец B"
      ],
      "metadata": {
        "id": "LhDs_2KymA_5"
      }
    },
    {
      "cell_type": "markdown",
      "source": [
        "а) A = [1, 0, -1],  B = [ [2], [1], [3] ]"
      ],
      "metadata": {
        "id": "YusVXRiimHMV"
      }
    },
    {
      "cell_type": "code",
      "source": [
        "# A = [1, 0, -1],  B = [ [2], [1], [3] ]\n",
        "A = [1, 0, -1];\n",
        "B = [ [2], [1], [3] ];\n",
        "C = row_column_multiplication(A, B);\n",
        "print(\"Произведение строки A на столбец B: \");\n",
        "print(C);\n",
        "\n"
      ],
      "metadata": {
        "colab": {
          "base_uri": "https://localhost:8080/"
        },
        "id": "qaIEfFb4mOLc",
        "outputId": "20b6330c-9b1d-45d4-b277-d71f453e3dfe"
      },
      "execution_count": 115,
      "outputs": [
        {
          "output_type": "stream",
          "name": "stdout",
          "text": [
            "Произведение строки A на столбец B: \n",
            "-1\n"
          ]
        }
      ]
    },
    {
      "cell_type": "markdown",
      "source": [
        "б) A = [1, 0, -1, 1],  B = [ [0], [1], [0], [1] ]"
      ],
      "metadata": {
        "id": "TbGl1mYLnwAv"
      }
    },
    {
      "cell_type": "code",
      "source": [
        "# A = [1, 0, -1, 1],  B = [ [0], [1], [0], [1] ]\n",
        "A = [1, 0, -1, 1];\n",
        "B = [ [0], [1], [0], [1] ];\n",
        "C = row_column_multiplication(A, B);\n",
        "print(\"Произведение строки A на столбец B: \");\n",
        "print(C);\n",
        "\n"
      ],
      "metadata": {
        "colab": {
          "base_uri": "https://localhost:8080/"
        },
        "id": "caDwoGrBn4Mo",
        "outputId": "f4891a32-239e-4f9e-eedd-a1d2a13d999a"
      },
      "execution_count": 116,
      "outputs": [
        {
          "output_type": "stream",
          "name": "stdout",
          "text": [
            "Произведение строки A на столбец B: \n",
            "1\n"
          ]
        }
      ]
    },
    {
      "cell_type": "markdown",
      "source": [
        "## Задание 8"
      ],
      "metadata": {
        "id": "faQPLKQ_uPfj"
      }
    },
    {
      "cell_type": "markdown",
      "source": [
        "Выполнить действия с матрицами"
      ],
      "metadata": {
        "id": "e_Ak6as1uvGQ"
      }
    },
    {
      "cell_type": "markdown",
      "source": [
        "а) A = [1, -1, 2]  *  B = [ [2, 1, 0, 1], [1, -1, 0, -2], [0, 2, -1, 1] ]  =  ?"
      ],
      "metadata": {
        "id": "i5lgi1qBuSRX"
      }
    },
    {
      "cell_type": "code",
      "source": [
        "# A = [1, -1, 2],  B = [ [2, 1, 0, 1], [1, -1, 0, -2], [0, 2, -1, 1] ]\n",
        "A = [1, -1, 2];\n",
        "B = [ [2, 1, 0, 1], [1, -1, 0, -2], [0, 2, -1, 1] ];\n",
        "ABC = matrix_multiplication(A, B);\n",
        "BAC = matrix_multiplication(B, A);\n",
        "print(\"A * B = \");\n",
        "print_matrix(ABC, True);\n",
        "print(\"B * A = \");\n",
        "print_matrix(BAC, True);\n",
        "\n"
      ],
      "metadata": {
        "id": "RK5DiBrFuqdA"
      },
      "execution_count": null,
      "outputs": []
    },
    {
      "cell_type": "markdown",
      "source": [
        "б) A = [ [1, -1, 2], [0, 1, 1], [1, 0, -1] ]  *  B = [ [1, 0, -1], [0, 1, 1], [-1, 2, 1] ]  -  2 * C = [ [-1, 0, 1], [0, 1, 1], [2, 0, 1] ]  *  D = [ [1, 1, 0], [1, -1, 0], [0, 1, 1] ]"
      ],
      "metadata": {
        "id": "peJGPPP-v1Yk"
      }
    },
    {
      "cell_type": "code",
      "source": [
        "# A = [ [1, -1, 2], [0, 1, 1], [1, 0, -1] ] * B = [ [1, 0, -1], [0, 1, 1], [-1, 2, 1] ] - 2 * C = [ [-1, 0, 1], [0, 1, 1], [2, 0, 1] ] * D = [ [1, 1, 0], [1, -1, 0], [0, 1, 1] ]\n",
        "A = [ [1, -1, 2], [0, 1, 1], [1, 0, -1] ];\n",
        "B = [ [1, 0, -1], [0, 1, 1], [-1, 2, 1] ];\n",
        "C = [ [-1, 0, 1], [0, 1, 1], [2, 0, 1] ];\n",
        "D = [ [1, 1, 0], [1, -1, 0], [0, 1, 1] ];\n",
        "\n",
        "print(\"A * B = \");\n",
        "AB = matrix_multiplication(A, B);\n",
        "print_matrix(AB, True);\n",
        "\n",
        "print(\"-2 * C = \");\n",
        "Cm2 = matrix_number_multiplication(C, -2);\n",
        "print_matrix(Cm2, True);\n",
        "\n",
        "print(\"-2 * C * D = \");\n",
        "Cm2D = matrix_multiplication(Cm2, D);\n",
        "print_matrix(Cm2D, True);\n",
        "\n",
        "print(\"A * B - 2 * C * D = \");\n",
        "ABCm2D = matrix_sum(AB, Cm2D);\n",
        "print_matrix(ABCm2D, True);\n",
        "\n"
      ],
      "metadata": {
        "colab": {
          "base_uri": "https://localhost:8080/"
        },
        "id": "OLW1S11WyQAQ",
        "outputId": "f55e9f32-b925-490a-b2d5-69f90c7ac4cc"
      },
      "execution_count": 126,
      "outputs": [
        {
          "output_type": "stream",
          "name": "stdout",
          "text": [
            "A * B = \n",
            "  Прямой порядок\n",
            "    Строка 1:  -1, 3, 0\n",
            "    Строка 2:  -1, 3, 2\n",
            "    Строка 3:  2, -2, -2\n",
            "\n",
            "-2 * C = \n",
            "  Прямой порядок\n",
            "    Строка 1:  2, 0, -2\n",
            "    Строка 2:  0, -2, -2\n",
            "    Строка 3:  -4, 0, -2\n",
            "\n",
            "-2 * C * D = \n",
            "  Прямой порядок\n",
            "    Строка 1:  2, 0, -2\n",
            "    Строка 2:  -2, 0, -2\n",
            "    Строка 3:  -4, -6, -2\n",
            "\n",
            "A * B - 2 * C * D = \n",
            "  Прямой порядок\n",
            "    Строка 1:  1, 3, -2\n",
            "    Строка 2:  -3, 3, 0\n",
            "    Строка 3:  -2, -8, -4\n",
            "\n"
          ]
        }
      ]
    },
    {
      "cell_type": "markdown",
      "source": [
        "в) A = [ [1, -1], [2, 1], [0, 1] ]  *  B = [ [1, -1, 0], [0, 1, 1] ]  +  2 * C = [ [1, -1, 1, 2], [0, 1, 1, 0], [0, 0, 1, -1] ]  *  D = [ [1, -1, 0], [0, 1, 1], [1, 2, 3], [-1, 0, 1] ]"
      ],
      "metadata": {
        "id": "FysaAmrFyZ1L"
      }
    },
    {
      "cell_type": "code",
      "source": [
        "# A = [ [1, -1], [2, 1], [0, 1] ]  *  B = [ [1, -1, 0], [0, 1, 1] ]  +  2 * C = [ [1, -1, 1, 2], [0, 1, 1, 0], [0, 0, 1, -1] ]  *  D = [ [1, -1, 0], [0, 1, 1], [1, 2, 3], [-1, 0, 1]\n",
        "A = [ [1, -1], [2, 1], [0, 1] ];\n",
        "B = [ [1, -1, 0], [0, 1, 1] ];\n",
        "C = [ [1, -1, 1, 2], [0, 1, 1, 0], [0, 0, 1, -1] ];\n",
        "D = [ [1, -1, 0], [0, 1, 1], [1, 2, 3], [-1, 0, 1] ];\n",
        "\n",
        "print(\"A * B = \");\n",
        "AB = matrix_multiplication(A, B);\n",
        "print_matrix(AB, True);\n",
        "\n",
        "print(\"2 * C = \");\n",
        "C2 = matrix_number_multiplication(C, 2);\n",
        "print_matrix(C2, True);\n",
        "\n",
        "print(\"2 * C * D = \");\n",
        "C2D = matrix_multiplication(C2, D);\n",
        "print_matrix(C2D, True);\n",
        "\n",
        "print(\"A * B + 2 * C * D = \");\n",
        "ABC2D = matrix_sum(AB, C2D);\n",
        "print_matrix(ABC2D, True);\n",
        "\n"
      ],
      "metadata": {
        "colab": {
          "base_uri": "https://localhost:8080/"
        },
        "id": "q9XJBTXDy8ve",
        "outputId": "d5cb0923-8b3d-463e-fe4c-e8ff013fdb81"
      },
      "execution_count": 130,
      "outputs": [
        {
          "output_type": "stream",
          "name": "stdout",
          "text": [
            "A * B = \n",
            "  Прямой порядок\n",
            "    Строка 1:  1, -2, -1\n",
            "    Строка 2:  2, -1, 1\n",
            "    Строка 3:  0, 1, 1\n",
            "\n",
            "2 * C = \n",
            "  Прямой порядок\n",
            "    Строка 1:  2, -2, 2, 4\n",
            "    Строка 2:  0, 2, 2, 0\n",
            "    Строка 3:  0, 0, 2, -2\n",
            "\n",
            "2 * C * D = \n",
            "  Прямой порядок\n",
            "    Строка 1:  0, 0, 8\n",
            "    Строка 2:  2, 6, 8\n",
            "    Строка 3:  4, 4, 4\n",
            "\n",
            "A * B + 2 * C * D = \n",
            "  Прямой порядок\n",
            "    Строка 1:  1, -2, 7\n",
            "    Строка 2:  4, 5, 9\n",
            "    Строка 3:  4, 5, 5\n",
            "\n"
          ]
        }
      ]
    }
  ]
}