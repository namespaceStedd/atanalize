{
  "nbformat": 4,
  "nbformat_minor": 0,
  "metadata": {
    "colab": {
      "provenance": [],
      "authorship_tag": "ABX9TyO2auvvlMEm3TnlKBspvx6T",
      "include_colab_link": true
    },
    "kernelspec": {
      "name": "python3",
      "display_name": "Python 3"
    },
    "language_info": {
      "name": "python"
    }
  },
  "cells": [
    {
      "cell_type": "markdown",
      "metadata": {
        "id": "view-in-github",
        "colab_type": "text"
      },
      "source": [
        "<a href=\"https://colab.research.google.com/github/namespaceStedd/atanalize/blob/main/Matrix.ipynb\" target=\"_parent\"><img src=\"https://colab.research.google.com/assets/colab-badge.svg\" alt=\"Open In Colab\"/></a>"
      ]
    },
    {
      "cell_type": "markdown",
      "source": [
        "# Матрицы"
      ],
      "metadata": {
        "id": "Vh8wWw84fvnx"
      }
    },
    {
      "cell_type": "markdown",
      "source": [
        "## Задание 1"
      ],
      "metadata": {
        "id": "cxd2x0vjf6Lq"
      }
    },
    {
      "cell_type": "markdown",
      "source": [
        "Выпишите последовательности строк и столбцов матрицы, укажите в каждом случае размерности и элементы a12, a21, a22."
      ],
      "metadata": {
        "id": "nLN8Zk42f8hr"
      }
    },
    {
      "cell_type": "code",
      "source": [
        "# Старая неоптимизированная функция, жалко удалять)\n",
        "def print_matrix(matrix, type):\n",
        "  row = len(matrix);\n",
        "  column = len(matrix[0]);\n",
        "  string_type = \"Строка \" if type else \"Столбец \";\n",
        "\n",
        "  for i in range (0, row if type else column):\n",
        "    output = string_type + str(i + 1) + \":  \";\n",
        "    limit = column if type else row;\n",
        "    for j in range (0, limit):\n",
        "      a = matrix[i][j] if type else matrix[j][i];\n",
        "      output += str(a) if j == limit else str(a) + \", \";\n",
        "    print(output);\n",
        "  print();"
      ],
      "metadata": {
        "id": "wQXbfe0VlmVl"
      },
      "execution_count": null,
      "outputs": []
    },
    {
      "cell_type": "markdown",
      "source": [
        "Функции..."
      ],
      "metadata": {
        "id": "Iq2eIQgQtBTw"
      }
    },
    {
      "cell_type": "code",
      "source": [
        "# Построение обратной матрицы\n",
        "def reverse_matrix(matrix):\n",
        "  reverse_matrix = matrix;\n",
        "  if matrix != None:\n",
        "    if (len(matrix) > 0):\n",
        "      if (len(matrix[0]) > 0):\n",
        "        i_max = len(matrix);\n",
        "        j_max = len(matrix[0]);\n",
        "        reverse_matrix = [[0 for j in range(i_max)] for i in range(j_max)];\n",
        "        for j in range(j_max):\n",
        "          for i in range(i_max):\n",
        "            reverse_matrix[j][i] = matrix[i][j];\n",
        "  return reverse_matrix;\n",
        "\n",
        "\n",
        "# Вывод матрицы на экран\n",
        "def print_matrix(matrix, type):\n",
        "  matrix = matrix if type else reverse_matrix(matrix);\n",
        "  order = \"  Прямой порядок\" if type else \"  Обратный порядок\";\n",
        "  string_type = \"    Строка \" if type else \"    Столбец \";\n",
        "  print(order);\n",
        "  for i in range (0, len(matrix)):\n",
        "    output = string_type + str(i + 1) + \":  \";\n",
        "    limit = len(matrix[i]);\n",
        "    for j in range (0, limit):\n",
        "      a = matrix[i][j];\n",
        "      output += str(a) if j == limit else str(a) + \", \";\n",
        "    print(output);\n",
        "  print();\n",
        "\n",
        "\n",
        "# Вывод метаданных\n",
        "def print_metadata(matrix):\n",
        "  if matrix != None:\n",
        "    print(\"  Размер  \\n    Строк: \" + str(len(matrix)) + \"  \\n    Столбцов: \" + str(len(matrix[0]) if len(matrix) > 0 else 0) + \"\\n\");\n",
        "    return;\n",
        "  print(\"  Матрицы не существует. Вы обращаетесь к симулякру\");\n",
        "  return;\n",
        "\n",
        "\n",
        "# Вывод указанных элементов на экран\n",
        "def print_matrix_elements(matrix, elements):\n",
        "  print(\"  Элементы матрицы:\");\n",
        "  for i in range (0, len(elements)):\n",
        "    if (len(elements[i]) >= 2):\n",
        "      row_index = elements[i][0];\n",
        "      column_index = elements[i][1];\n",
        "      print(\"    a[\" + str(row_index) + \"][\" + str(column_index) + \"] = \" + str(matrix[row_index - 1][column_index - 1]));\n",
        "  print(\"\" if str(len(elements) > 0) else \"    Не определены!!!\\n\");\n",
        "\n"
      ],
      "metadata": {
        "id": "OetlaeWqtD5j"
      },
      "execution_count": null,
      "outputs": []
    },
    {
      "cell_type": "markdown",
      "source": [
        "Матрица A = [ [1, -1, 2, 0], [0, 1, 1, 3] ]"
      ],
      "metadata": {
        "id": "8M2ZGRlftFSZ"
      }
    },
    {
      "cell_type": "code",
      "execution_count": null,
      "metadata": {
        "colab": {
          "base_uri": "https://localhost:8080/"
        },
        "id": "oDTjwDiAfuOP",
        "outputId": "692b3842-7a15-48a7-bd9c-927ec874c010"
      },
      "outputs": [
        {
          "output_type": "stream",
          "name": "stdout",
          "text": [
            "Матрица A\n",
            "  Размер  \n",
            "    Строк: 2  \n",
            "    Столбцов: 4\n",
            "\n",
            "  Прямой порядок\n",
            "    Строка 1:  1, -1, 2, 0, \n",
            "    Строка 2:  0, 1, 1, 3, \n",
            "\n",
            "  Обратный порядок\n",
            "    Столбец 1:  1, 0, \n",
            "    Столбец 2:  -1, 1, \n",
            "    Столбец 3:  2, 1, \n",
            "    Столбец 4:  0, 3, \n",
            "\n",
            "  Элементы матрицы:\n",
            "    a[1][2] = -1\n",
            "    a[2][1] = 0\n",
            "    a[2][2] = 1\n",
            "\n"
          ]
        }
      ],
      "source": [
        "# A = [ [1, -1, 2, 0], [0, 1, 1, 3] ]\n",
        "A = [ [1, -1, 2, 0], [0, 1, 1, 3] ];\n",
        "print(\"Матрица A\");\n",
        "print_metadata(A);\n",
        "print_matrix(A, True);   # Прямой порядок\n",
        "print_matrix(A, False);   # Обратный порядок\n",
        "print_matrix_elements(A, [ [1, 2], [2, 1], [2, 2] ]);\n",
        "\n"
      ]
    },
    {
      "cell_type": "markdown",
      "source": [
        "Матрица B = [ [1, 0, -1, 3, 2], [0, 1, 1, 2, 0], [-1, 2, 0, 3, 0] ]"
      ],
      "metadata": {
        "id": "q1mRSBvztVnN"
      }
    },
    {
      "cell_type": "code",
      "source": [
        "# B = [ [1, 0, -1, 3, 2], [0, 1, 1, 2, 0], [-1, 2, 0, 3, 0] ]\n",
        "B = [ [1, 0, -1, 3, 2], [0, 1, 1, 2, 0], [-1, 2, 0, 3, 0] ];\n",
        "print(\"Матрица B\");\n",
        "print_metadata(B);\n",
        "print_matrix(B, True);   # Прямой порядок\n",
        "print_matrix(B, False);   # Обратный порядок\n",
        "print_matrix_elements(B, [ [1, 2], [2, 1], [2, 2] ]);\n",
        "\n"
      ],
      "metadata": {
        "colab": {
          "base_uri": "https://localhost:8080/"
        },
        "id": "GxPRBl0ltVRz",
        "outputId": "114f7615-a2e6-48c8-de4b-91306d4efce9"
      },
      "execution_count": null,
      "outputs": [
        {
          "output_type": "stream",
          "name": "stdout",
          "text": [
            "Матрица B\n",
            "  Размер  \n",
            "    Строк: 3  \n",
            "    Столбцов: 5\n",
            "\n",
            "  Прямой порядок\n",
            "    Строка 1:  1, 0, -1, 3, 2, \n",
            "    Строка 2:  0, 1, 1, 2, 0, \n",
            "    Строка 3:  -1, 2, 0, 3, 0, \n",
            "\n",
            "  Обратный порядок\n",
            "    Столбец 1:  1, 0, -1, \n",
            "    Столбец 2:  0, 1, 2, \n",
            "    Столбец 3:  -1, 1, 0, \n",
            "    Столбец 4:  3, 2, 3, \n",
            "    Столбец 5:  2, 0, 0, \n",
            "\n",
            "  Элементы матрицы:\n",
            "    a[1][2] = 0\n",
            "    a[2][1] = 0\n",
            "    a[2][2] = 1\n",
            "\n"
          ]
        }
      ]
    },
    {
      "cell_type": "markdown",
      "source": [
        "Матрица C = [ [1, 1, 2], [2, 1, 3], [3, 1, 0], [0, -1, 1] ]"
      ],
      "metadata": {
        "id": "_LrtHf-SxSdd"
      }
    },
    {
      "cell_type": "code",
      "source": [
        "# C = [ [1, 1, 2], [2, 1, 3], [3, 1, 0], [0, -1, 1] ]\n",
        "C = [ [1, 1, 2], [2, 1, 3], [3, 1, 0], [0, -1, 1] ];\n",
        "print(\"Матрица C\");\n",
        "print_metadata(C);\n",
        "print_matrix(C, True);   # Прямой порядок\n",
        "print_matrix(C, False);   # Обратный порядок\n",
        "print_matrix_elements(C, [ [1, 2], [2, 1], [2, 2] ]);\n",
        "\n"
      ],
      "metadata": {
        "colab": {
          "base_uri": "https://localhost:8080/"
        },
        "id": "2bbGoHohxSyb",
        "outputId": "f0265257-36d5-41b1-8d2e-a11e0f4bfe0c"
      },
      "execution_count": null,
      "outputs": [
        {
          "output_type": "stream",
          "name": "stdout",
          "text": [
            "Матрица C\n",
            "  Размер  \n",
            "    Строк: 4  \n",
            "    Столбцов: 3\n",
            "\n",
            "  Прямой порядок\n",
            "    Строка 1:  1, 1, 2, \n",
            "    Строка 2:  2, 1, 3, \n",
            "    Строка 3:  3, 1, 0, \n",
            "    Строка 4:  0, -1, 1, \n",
            "\n",
            "  Обратный порядок\n",
            "    Столбец 1:  1, 2, 3, 0, \n",
            "    Столбец 2:  1, 1, 1, -1, \n",
            "    Столбец 3:  2, 3, 0, 1, \n",
            "\n",
            "  Элементы матрицы:\n",
            "    a[1][2] = 1\n",
            "    a[2][1] = 2\n",
            "    a[2][2] = 1\n",
            "\n"
          ]
        }
      ]
    }
  ]
}